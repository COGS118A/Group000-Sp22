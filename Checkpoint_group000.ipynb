{
 "cells": [
  {
   "cell_type": "markdown",
   "metadata": {},
   "source": [
    "# COGS 118A- Project Checkpoint"
   ]
  },
  {
   "cell_type": "markdown",
   "metadata": {},
   "source": [
    "# Names\n",
    "\n",
    "- Kimberly Rose Johnson\n",
    "- Ana Cunha\n",
    "- Esmeralda Mejia Trejo"
   ]
  },
  {
   "cell_type": "markdown",
   "metadata": {},
   "source": [
    "# Abstract \n",
    "\n",
    "Connect 4 is a popular 2 player game in which players take turns placing pieces in a 6 X 7 grid board. The objective is for a player to have 4 of their pieces connected in a horizontal, vertical, or diagonal line. Our goal is to design an AI that plays a perfect game of Connect 4 every time, regardless of what move the opponent makes, by training our model using reinforced learning in Kaggle's Connect X simulation environment."
   ]
  },
  {
   "cell_type": "markdown",
   "metadata": {},
   "source": [
    "# Background\n",
    "\n",
    "MINOR TWEAKS\n",
    "\n",
    "Solving games through the use of artificial intelligence has historically been a topic of interest and the skills\n",
    "needed to perform this task can be of use in a variety of other fields. A game is considered \"solved\" when\n",
    "its \"outcome (win, lose or draw) can be correctly predicted from any position, assuming that both players\n",
    "play perfectly\" <a name=\"Wikipedia\"></a1>[<sup>[1]</sup>](#Wikipedia). Connect 4 is considered a solved game. It\n",
    "was first solved in 1988 with a knowledge based approach and was solved with a brute force approach\n",
    "in 1995 that utilized an 8-ply database <a name=\"Wikipedia\"></a1>[<sup>[1]</sup>](#Wikipedia). Using databases\n",
    "to solve games is a form of retrograde analysis, which is a technique \"in which for each position of some specific game\n",
    "or endgame the optimal moves towards the best reachable goal is stored\" <a name=\"Heule and Rothkrantz\"></a2>[<sup>[2]</sup>](#Heule_and_Rothkrantz).\n",
    "We will explore the use of a decision tree to construct our model and will do additional research to ensure this is\n",
    "the optimal solution. Development of AI for games has been an undeniable contributor to the field of AI as a whole and\n",
    "there are still vast improvements to be made in this area <a name=\"Fan et al\"></a3>[<sup>[3]</sup>](#Fan_et_al).\n",
    "Additionally, we will explore the implementation of Q-Deep learning which creates a map with every action from the bot and updates the action based on whether it's last action was rewarding or not. Another thing we will explore is the implementation of a Monte Carlo simulation which serves to predict the possible outcomes of an AI playing Connect 4. The purpose of it is to account for risk and decision making for uncertain events.   "
   ]
  },
  {
   "cell_type": "markdown",
   "metadata": {},
   "source": [
    "# Problem Statement\n",
    "\n",
    "MINOR TWEAKS\n",
    "\n",
    "Currently, there are a lot of AI developments especially in gaming. However, some research has pointed to the fact that there is still a lot of room for further advancements. In our project, we aim to create an AI that would beat the user every time in a game of Connect-4. We will accomplish this by using the data described and creating an efficient algorithm that is capable of making next play decisions based on the user’s moves.\n",
    "\n",
    "Changed :Currently, there are a lot of AI developments especially in gaming. However, some research has pointed to the fact that there is still a lot of room for further advancements. In our project thus far, we aim to play Connect 4 against an AI, that use a simulation to find the moves to make winning combinations, and doing so in several trials so that the AI can learn to play better. Additionally, we hope to implement a Q-Learning Algortihm to a player bot and a Monte Carlo algorithm to a second player bot in order to compare their winning success. "
   ]
  },
  {
   "cell_type": "markdown",
   "metadata": {},
   "source": [
    "# Data\n",
    "\n",
    "We have realized that our previous chosen data set would only allow us to predict the winner of a Connect4 match instead of assisting us in building an AI that would be able to play the user. In light of that, we've changed our data set for this project.\n",
    "\n",
    "As discussed with the professor, our data set will consist of the data collected from the simulation we will construct. The data from the simulation will be used as a training set for our project since we will be using reinforced learning. \n",
    "\n",
    "So far, we are still in the process of building the simulation, once that is fully ready and available we will have a training set data."
   ]
  },
  {
   "cell_type": "markdown",
   "metadata": {},
   "source": [
    "# Proposed Solution\n",
    "\n",
    "Our initial proposed solution involved supervised machine learning methods that we had previously discussed in class. However, upon speaking with the professor we have found better methods using reinforced learning.\n",
    "\n",
    "For this project, we will build a Monte Carlo Tree Search (MCTS) combined with a neural network. With this solution, we will be able to create a simulation that will serve as our training data set. This method will also allow us to create a model using said training set which will then be able to play and beat the user in a game of Connect4."
   ]
  },
  {
   "cell_type": "markdown",
   "metadata": {},
   "source": [
    "# Evaluation Metrics\n",
    "\n",
    "Since we're using a reinforced learning model our metrics will be slightly different than anticipated.\n",
    "\n",
    "Considering the MCTS and neural network components to our project, we had to do extensive research on different testing methods since we had not covered these in class. The best way we have found to test our model is to run that same model on a much simpler game that consists of a much smaller scale than Connect4, like a game of Go on a 9x9 board. \n",
    "\n",
    "According to our research, beating a game of Go was a challenge until the development of MCTS, which is one of the few algorithms that is able to beat the game. \n",
    "\n",
    "By analyzing a much simpler game implementing our model, we will be able to watch for expected behaviors and find flaws within our models. By running our model through a game of Go specifically, we will be able to ensure that our algorithm works as a MCTS is supposed to.\n"
   ]
  },
  {
   "cell_type": "markdown",
   "metadata": {},
   "source": [
    "# Preliminary results\n",
    "\n",
    "NEW SECTION!\n",
    "\n",
    "Please show any preliminary results you have managed to obtain.\n",
    "\n",
    "Examples would include:\n",
    "- Analyzing the suitability of a dataset or alogrithm for prediction/solving your problem \n",
    "- Performing feature selection or hand-designing features from the raw data. Describe the features available/created and/or show the code for selection/creation\n",
    "- Showing the performance of a base model/hyper-parameter setting.  Solve the task with one \"default\" algorithm and characterize the performance level of that base model.\n",
    "- Learning curves or validation curves for a particular model\n",
    "- Tables/graphs showing the performance of different models/hyper-parameters\n",
    "\n"
   ]
  },
  {
   "cell_type": "markdown",
   "metadata": {},
   "source": [
    "# Ethics & Privacy"
   ]
  },
  {
   "cell_type": "markdown",
   "metadata": {},
   "source": [
    "Privacy is not a concern with our project but ethics certainly could be. Any AI built to solve games can be used to cheat in those same games. Furthermore, solutions and/or algorithms could be taken and used to construct an AI for the purpose of cheating in a different game."
   ]
  },
  {
   "cell_type": "markdown",
   "metadata": {},
   "source": [
    "# Team Expectations "
   ]
  },
  {
   "cell_type": "markdown",
   "metadata": {},
   "source": [
    "* All team members must contribute equally in the project to the best of their ability\n",
    "* All members should continuously communicate with each other and be present when collaboration is needed.\n",
    "* All members should complete their assigned tasks by the due date.\n",
    "* All members must be mindful of each other and listen to what others have to say.\n",
    "* All members should have a say in how the project is developed."
   ]
  },
  {
   "cell_type": "markdown",
   "metadata": {},
   "source": [
    "# Project Timeline Proposal"
   ]
  },
  {
   "cell_type": "markdown",
   "metadata": {},
   "source": [
    "\n",
    "| Meeting Date  | Meeting Time| Completed Before Meeting  | Discuss at Meeting |\n",
    "|---|---|---|---|\n",
    "| 4/20  |  6 PM |  Brainstorm topics/questions  | Discuss project ideas, start project proposal, divide sections for project proposal | \n",
    "| 4/27  |  6 PM |  Read peer proposals | Work on peer review of project proposals | \n",
    "| 5/4  | 6 PM  | Search for helpful resources and data sets  | Discuss approaches to project, assign team members to lead certain sections of the project |\n",
    "| 5/20  | 6 PM  | Research reinforced learning, investigate testing methods | Discuss progress, and any other details prior to checkpoint |\n",
    "| 5/25  | 6 PM  | More research on MCTS and neural networks | Finish up simulation |\n",
    "| 6/1  | 6 PM  | Finalize drafts | Conclude model  |\n",
    "| 6/8  | 6 PM  | Proof read/ double check project | Project turn in and team evaluation survey  |"
   ]
  },
  {
   "cell_type": "markdown",
   "metadata": {},
   "source": [
    "# Footnotes\n",
    "<a name=\"Wikipedia\"></a>1.[^](#Wikipedia): Wikipedia: Connect Four. https://en.wikipedia.org/wiki/Solved_game, https://en.wikipedia.org/wiki/Connect_Four<br> \n",
    "<a name=\"Heule and Rothkrantz\"></a>2.[^](#heule_and_rothkrantz): M.J.H. Heule1 and L.J.M. Rothkrantz, Solving games Dependence of applicable solving procedures. https://www.cs.utexas.edu/~marijn/publications/solving_games.pdf<br>\n",
    "<a name=\"Fan et al\"></a>3.[^](#fan_et_al): Xueman Fan, J. Wu & L. Tian (01 February 2020), A Review of Artificial Intelligence for Games. Part of the Lecture Notes in Electrical Engineering book series (LNEE,volume 572) https://link.springer.com/chapter/10.1007/978-981-15-0187-6_34 <br>"
   ]
  },
  {
   "cell_type": "code",
   "execution_count": null,
   "metadata": {},
   "outputs": [],
   "source": []
  }
 ],
 "metadata": {
  "kernelspec": {
   "display_name": "Python 3",
   "language": "python",
   "name": "python3"
  },
  "language_info": {
   "codemirror_mode": {
    "name": "ipython",
    "version": 3
   },
   "file_extension": ".py",
   "mimetype": "text/x-python",
   "name": "python",
   "nbconvert_exporter": "python",
   "pygments_lexer": "ipython3",
   "version": "3.8.8"
  }
 },
 "nbformat": 4,
 "nbformat_minor": 2
}
