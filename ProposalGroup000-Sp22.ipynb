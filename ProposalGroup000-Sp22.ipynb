{
 "cells": [
  {
   "cell_type": "markdown",
   "metadata": {},
   "source": [
    "# COGS 118A- Project Proposal"
   ]
  },
  {
   "cell_type": "markdown",
   "metadata": {},
   "source": []
  },
  {
   "cell_type": "markdown",
   "metadata": {},
   "source": [
    "# Project Description\n",
    "\n",
    "You will design and execute a machine learning project. There are a few constraints on the nature of the allowed project. \n",
    "- The problem addressed will not be a \"toy problem\" or \"common training students problem\" like mtcars, iris, palmer penguins etc.\n",
    "- The dataset will have >1k observations and >5 variables. I'd prefer more like >10k observations and >10 variables. A general rule is that if you have >100x more observations than variables, your solution will likely generalize a lot better. The goal of training a supervised machine learning model is to learn the underlying pattern in a dataset in order to generalize well to unseen data, so choosing a large dataset is very important.\n",
    "\n",
    "- The project will include a model selection and/or feature selection component where you will be looking for the best setup to maximize the performance of your ML system.\n",
    "- You will evaluate the performance of your ML system using more than one appropriate metric\n",
    "- You will be writing a report describing and discussing these accomplishments\n",
    "\n",
    "\n",
    "Feel free to delete this description section when you hand in your proposal."
   ]
  },
  {
   "cell_type": "markdown",
   "metadata": {},
   "source": [
    "### Peer Review\n",
    "\n",
    "You will all have an opportunity to look at the Project Proposals of other groups to fuel your creativity and get more ideas for how you can improve your own projects. \n",
    "\n",
    "Both the project proposal and project checkpoint will have peer review."
   ]
  },
  {
   "cell_type": "markdown",
   "metadata": {},
   "source": [
    "# Names\n",
    "\n",
    "- Ana Cunha\n",
    "- Esmeralda Mejia Trejo\n",
    "- Kimberly Johnson"
   ]
  },
  {
   "cell_type": "markdown",
   "metadata": {},
   "source": [
    "# Abstract \n",
    "\n",
    "Connect 4 is a popular 2 player game in which players take turns placing pieces in a 6 X 7 grid board. The objective\n",
    "is for a player to have 4 of their pieces connected in a horizontal, vertical, or diagonal line.\n",
    "Our goal is to design an AI that plays a perfect game of Connect 4 every time regardless of what move the opponent makes.\n",
    "The data set we will use represents all of the possible moves in the game in the case that neither player has won\n",
    "yet. We will use this data set to train a model which is capable of selecting the optimal move against its opponent\n",
    "every round. Our success will be measured by the percentage of wins our AI gains over experienced human users\n",
    "and other AI implementations in online versions of the game, if possible."
   ]
  },
  {
   "cell_type": "markdown",
   "metadata": {},
   "source": [
    "# Background\n",
    "\n",
    "Solving games through the use of artificial intelligence has historically been a topic of interest and the skills\n",
    "needed to perform this task can be of use in a variety of other fields. A game is considered \"solved\" when\n",
    "its \"outcome (win, lose or draw) can be correctly predicted from any position, assuming that both players\n",
    "play perfectly\" <a name=\"Wikipedia\"></a1>[<sup>[1]</sup>](#Wikipedia). Connect 4 is considered a solved game. It\n",
    "was first solved in 1988 with a knowledge based approach and was solved with a brute force approach\n",
    "in 1995 that utilized an 8-ply database <a name=\"Wikipedia\"></a1>[<sup>[1]</sup>](#Wikipedia). Using databases\n",
    "to solve games is a form of retrograde analysis, which is a technique \"in which for each position of some specific game\n",
    "or endgame the optimal moves towards the best reachable goal is stored\" <a name=\"Heule and Rothkrantz\"></a2>[<sup>[2]</sup>](#Heule and Rothkrantz).\n",
    "We will explore the use of a decision tree to construct our model and will do additional research to ensure this is\n",
    "the optimal solution. Development of AI for games has been an undeniable contributor to the field of AI as a whole and\n",
    "there are still vast improvements to be made in this area <a name=\"Fan et al\"></a3>[<sup>[3]</sup>](#Fan et al)."
   ]
  },
  {
   "cell_type": "markdown",
   "metadata": {},
   "source": [
    "# Problem Statement\n",
    "\n",
    "Currently, there are a lot of AI developments especially in gaming. However, some research has pointed to the fact that\n",
    "there is still a lot of room for further advancements. In our project, we aim to create an AI that would beat the user every\n",
    "time in a game of Connect-4. We will accomplish this by using the data described and creating an efficient algorithm that is\n",
    "capable of making next play decisions based on the user’s moves."
   ]
  },
  {
   "cell_type": "markdown",
   "metadata": {},
   "source": [
    "# Data\n",
    "\n",
    "- Training an Artificial Neural Network to play connect-4\n",
    "- Source: https://github.com/t-brewer/connect4_CNN\n",
    "- Description: used over 300k examples to train the Convolutional Neural Network (CNN) to recognize the winner of the game\n",
    "\n",
    "- Connect-4 Data Set\n",
    "- Source: https://archive.ics.uci.edu/ml/datasets/connect-4\n",
    "- Description: This database contains all legal 8-ply positions in the game of connect-4 in which neither player has won yet,\n",
    "and in which the next move is not forced. x is the first player; o the second. The outcome class is the game\n",
    "theoretical value for the first player."
   ]
  },
  {
   "cell_type": "markdown",
   "metadata": {},
   "source": [
    "# Proposed Solution\n",
    "\n",
    "Our initial idea to create our AI is to use decision trees and the KNN algorithm, both of which have been discussed at\n",
    "length in class. Through these methods, we hope to achieve an AI capable of beating the user at every Connect-4 game.\n",
    "We will test our solution through games against users as well as testing it against other AIs that have also been built\n",
    "with the same purpose as ours."
   ]
  },
  {
   "cell_type": "markdown",
   "metadata": {},
   "source": [
    "# Evaluation Metrics\n",
    "\n",
    "We will be evaluating the performance of our model by calculating the percentage of wins it achieves over experienced\n",
    "human opponents and other AIs, along with the time it takes to calculate moves. A model that takes too long to make\n",
    "calculations would be inefficient."
   ]
  },
  {
   "cell_type": "markdown",
   "metadata": {},
   "source": [
    "# Ethics & Privacy"
   ]
  },
  {
   "cell_type": "markdown",
   "metadata": {},
   "source": [
    "Privacy is not a concern with our project but ethics certainly could be. Any AI built to solve games can be used to\n",
    "cheat in those same games. Furthermore, solutions and/or algorithms could be taken and used to construct an AI for\n",
    "the purpose of cheating in a different game."
   ]
  },
  {
   "cell_type": "markdown",
   "metadata": {},
   "source": [
    "# Team Expectations "
   ]
  },
  {
   "cell_type": "markdown",
   "metadata": {},
   "source": [
    "- All team members must contribute equally in the project to the best of their ability\n",
    "- All members should continuously communicate with each other and be present when collaboration is needed.\n",
    "- All members should complete their assigned tasks by the due date.\n",
    "- All members must be mindful of each other and listen to what others have to say.\n",
    "- All members should have a say in how the project is developed."
   ]
  },
  {
   "cell_type": "markdown",
   "metadata": {},
   "source": [
    "# Project Timeline Proposal"
   ]
  },
  {
   "cell_type": "markdown",
   "metadata": {},
   "source": [
    "| Meeting Date  | Meeting Time| Completed Before Meeting  | Discuss at Meeting |\n",
    "|---|---|---|---|\n",
    "| 4/20  |  6 PM |  Brainstorm topics/questions  | Discuss project ideas, start project proposal, divide sections for project proposal | \n",
    "| 4/27  |  6 PM |  Read peer proposals | Work on peer review of project proposals | \n",
    "| 5/4  | 6 PM  | Search for helpful resources and data sets  | Discuss approaches to project, assign team members to lead certain sections of the project |\n",
    "| 5/11  | 6 PM  | Import and wrangle data, do some EDA | Review/Edit wrangling/EDA; Discuss Analysis Plan   |\n",
    "| 5/18  | 6 PM  | Look over peer checkpoints, start working on analysis | Peer review of checkpoints; Continue discussing analysis |\n",
    "| 5/25  | 6 PM  | Complete analysis; Draft results/conclusion/discussion | Discuss/edit project |\n",
    "| 6/1  | 6 PM  | Finalize drafts | Conclude project  |\n",
    "| 6/8  | 6 PM  | Proof read/ double check project | Project turn in and team evaluation survey  |"
   ]
  },
  {
   "cell_type": "markdown",
   "metadata": {},
   "source": [
    "# Footnotes\n",
    "<a name=\"Wikipedia\"></a1>.[^](#Wikipedia): https://en.wikipedia.org/wiki/Solved_game, https://en.wikipedia.org/wiki/Connect_Four<br>\n",
    "<a name=\"Heule and Rothkrantz\"></a2>.[^](#Heule and Rothkrantz): M.J.H. Heule1 and L.J.M. Rothkrantz, Solving games Dependence of applicable solving procedures: https://www.cs.utexas.edu/~marijn/publications/solving_games.pdf <br>\n",
    "<a name=\"Fan et al\"></a3>.[^](#Fan et al): Xueman Fan, J. Wu & L. Tian (01 February 2020), A Review of Artificial Intelligence for Games. Part of the Lecture Notes in Electrical Engineering book series (LNEE,volume 572): https://link.springer.com/chapter/10.1007/978-981-15-0187-6_34 <br>\n"
   ]
  },
  {
   "cell_type": "code",
   "execution_count": null,
   "metadata": {},
   "outputs": [],
   "source": []
  }
 ],
 "metadata": {
  "kernelspec": {
   "display_name": "Python 3",
   "language": "python",
   "name": "python3"
  },
  "language_info": {
   "codemirror_mode": {
    "name": "ipython",
    "version": 3
   },
   "file_extension": ".py",
   "mimetype": "text/x-python",
   "name": "python",
   "nbconvert_exporter": "python",
   "pygments_lexer": "ipython3",
   "version": "3.7.1"
  }
 },
 "nbformat": 4,
 "nbformat_minor": 2
}